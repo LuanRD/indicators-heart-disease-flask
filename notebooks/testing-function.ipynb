{
 "cells": [
  {
   "cell_type": "code",
   "execution_count": 272,
   "id": "3e5b569e",
   "metadata": {},
   "outputs": [],
   "source": [
    "import pandas as pd\n",
    "import pickle\n",
    "from flask import request"
   ]
  },
  {
   "cell_type": "code",
   "execution_count": 273,
   "id": "d6cf0343",
   "metadata": {},
   "outputs": [],
   "source": [
    "pipeline = pickle.load(open('../models/pipeline.pkl', 'rb'))"
   ]
  },
  {
   "cell_type": "code",
   "execution_count": 274,
   "id": "62def2f5",
   "metadata": {},
   "outputs": [],
   "source": [
    "data = {'BMI': '23', 'Smoking': 'Yes', 'AlcoholDrinking': 'Yes', 'Stroke': 'Yes', 'PhysicalHealth': '12', 'MentalHealth': '13', 'DiffWalking': 'Yes', 'Sex': 'Male', 'AgeCategory': '18-24', 'Race': 'American Indian/Alaskan Native', 'Diabetic': 'No', 'PhysicalActivity': 'No', 'GenHealth': 'Poor', 'SleepTime': '12', 'Asthma': 'Yes', 'KidneyDisease': 'No', 'SkinCancer': 'No'}"
   ]
  },
  {
   "cell_type": "code",
   "execution_count": 275,
   "id": "9e304af3",
   "metadata": {},
   "outputs": [],
   "source": [
    "inputs = []\n",
    "for x in data.values():\n",
    "    if x.isnumeric() == True:\n",
    "        x = float(x)\n",
    "    else:\n",
    "        pass\n",
    "\n",
    "    inputs.append(x)"
   ]
  },
  {
   "cell_type": "code",
   "execution_count": 276,
   "id": "e8793358",
   "metadata": {},
   "outputs": [],
   "source": [
    "values = []\n",
    "for i, j in enumerate(inputs):\n",
    "    i = list()\n",
    "    i.append(j)\n",
    "    values.append(i)\n",
    "\n",
    "zip_obj = zip(data.keys(), values)\n",
    "df = pd.DataFrame(dict(zip_obj))"
   ]
  },
  {
   "cell_type": "code",
   "execution_count": 277,
   "id": "9f7ba0bb",
   "metadata": {},
   "outputs": [
    {
     "data": {
      "text/html": [
       "<div>\n",
       "<style scoped>\n",
       "    .dataframe tbody tr th:only-of-type {\n",
       "        vertical-align: middle;\n",
       "    }\n",
       "\n",
       "    .dataframe tbody tr th {\n",
       "        vertical-align: top;\n",
       "    }\n",
       "\n",
       "    .dataframe thead th {\n",
       "        text-align: right;\n",
       "    }\n",
       "</style>\n",
       "<table border=\"1\" class=\"dataframe\">\n",
       "  <thead>\n",
       "    <tr style=\"text-align: right;\">\n",
       "      <th></th>\n",
       "      <th>BMI</th>\n",
       "      <th>Smoking</th>\n",
       "      <th>AlcoholDrinking</th>\n",
       "      <th>Stroke</th>\n",
       "      <th>PhysicalHealth</th>\n",
       "      <th>MentalHealth</th>\n",
       "      <th>DiffWalking</th>\n",
       "      <th>Sex</th>\n",
       "      <th>AgeCategory</th>\n",
       "      <th>Race</th>\n",
       "      <th>Diabetic</th>\n",
       "      <th>PhysicalActivity</th>\n",
       "      <th>GenHealth</th>\n",
       "      <th>SleepTime</th>\n",
       "      <th>Asthma</th>\n",
       "      <th>KidneyDisease</th>\n",
       "      <th>SkinCancer</th>\n",
       "    </tr>\n",
       "  </thead>\n",
       "  <tbody>\n",
       "    <tr>\n",
       "      <th>0</th>\n",
       "      <td>23.0</td>\n",
       "      <td>Yes</td>\n",
       "      <td>Yes</td>\n",
       "      <td>Yes</td>\n",
       "      <td>12.0</td>\n",
       "      <td>13.0</td>\n",
       "      <td>Yes</td>\n",
       "      <td>Male</td>\n",
       "      <td>18-24</td>\n",
       "      <td>American Indian/Alaskan Native</td>\n",
       "      <td>No</td>\n",
       "      <td>No</td>\n",
       "      <td>Poor</td>\n",
       "      <td>12.0</td>\n",
       "      <td>Yes</td>\n",
       "      <td>No</td>\n",
       "      <td>No</td>\n",
       "    </tr>\n",
       "  </tbody>\n",
       "</table>\n",
       "</div>"
      ],
      "text/plain": [
       "    BMI Smoking AlcoholDrinking Stroke  PhysicalHealth  MentalHealth  \\\n",
       "0  23.0     Yes             Yes    Yes            12.0          13.0   \n",
       "\n",
       "  DiffWalking   Sex AgeCategory                            Race Diabetic  \\\n",
       "0         Yes  Male       18-24  American Indian/Alaskan Native       No   \n",
       "\n",
       "  PhysicalActivity GenHealth  SleepTime Asthma KidneyDisease SkinCancer  \n",
       "0               No      Poor       12.0    Yes            No         No  "
      ]
     },
     "execution_count": 277,
     "metadata": {},
     "output_type": "execute_result"
    }
   ],
   "source": [
    "df"
   ]
  },
  {
   "cell_type": "code",
   "execution_count": 278,
   "id": "349b28af",
   "metadata": {
    "scrolled": false
   },
   "outputs": [],
   "source": [
    "prediction = pipeline.predict(df)"
   ]
  },
  {
   "cell_type": "code",
   "execution_count": 279,
   "id": "ac936469",
   "metadata": {},
   "outputs": [
    {
     "data": {
      "text/plain": [
       "array([0])"
      ]
     },
     "execution_count": 279,
     "metadata": {},
     "output_type": "execute_result"
    }
   ],
   "source": [
    "prediction"
   ]
  },
  {
   "cell_type": "code",
   "execution_count": null,
   "id": "4df264c5",
   "metadata": {},
   "outputs": [],
   "source": []
  }
 ],
 "metadata": {
  "kernelspec": {
   "display_name": "Python 3 (ipykernel)",
   "language": "python",
   "name": "python3"
  },
  "language_info": {
   "codemirror_mode": {
    "name": "ipython",
    "version": 3
   },
   "file_extension": ".py",
   "mimetype": "text/x-python",
   "name": "python",
   "nbconvert_exporter": "python",
   "pygments_lexer": "ipython3",
   "version": "3.9.7"
  }
 },
 "nbformat": 4,
 "nbformat_minor": 5
}
